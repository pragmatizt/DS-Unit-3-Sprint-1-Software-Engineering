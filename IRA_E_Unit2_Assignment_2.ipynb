{
  "nbformat": 4,
  "nbformat_minor": 0,
  "metadata": {
    "colab": {
      "name": "IRA_E_Unit2_Assignment_2.ipynb",
      "provenance": [],
      "collapsed_sections": [],
      "include_colab_link": true
    },
    "kernelspec": {
      "name": "python3",
      "display_name": "Python 3"
    }
  },
  "cells": [
    {
      "cell_type": "markdown",
      "metadata": {
        "id": "view-in-github",
        "colab_type": "text"
      },
      "source": [
        "<a href=\"https://colab.research.google.com/github/pragmatizt/DS-Unit-3-Sprint-1-Software-Engineering/blob/master/IRA_E_Unit2_Assignment_2.ipynb\" target=\"_parent\"><img src=\"https://colab.research.google.com/assets/colab-badge.svg\" alt=\"Open In Colab\"/></a>"
      ]
    },
    {
      "cell_type": "code",
      "metadata": {
        "id": "ciMzs64ZfL8e",
        "colab_type": "code",
        "colab": {}
      },
      "source": [
        "## This is the class I created that has several methods of finding nulls,\n",
        "## extracting the X and y, and then doing a train_test_split on the data.\n",
        "\n",
        "from sklearn.model_selection import train_test_split\n",
        "\n",
        "class Cleaning_Data():\n",
        "  \n",
        "    def __init__(self, df, target):\n",
        "        self.df = df\n",
        "        self.target = target\n",
        "      \n",
        "    def find_nulls(self):\n",
        "        return self.df.isnull().sum().sort_values(ascending=True)\n",
        "      \n",
        "    def extract_target(self):\n",
        "        return self.df.drop(self.target, axis = 1)\n",
        "        \n",
        "      \n",
        "    def extract(self):\n",
        "        return self.df[self.target]  \n",
        "              \n",
        "    def ira_t_t_split(self):\n",
        "        self.X = self.extract_target()\n",
        "        self.y = self.extract()\n",
        "        \n",
        "        X_train, X_val, y_train, y_val = train_test_split(\n",
        "            self.X, self.y, train_size=0.5, test_size=0.5, random_state=42)        \n",
        "\n",
        "        print(\"X_train:\", X_train.shape)\n",
        "        print(\"X_val:\", X_val.shape)\n",
        "        print(\"y_train:\", y_train.shape)\n",
        "        print(\"y_val:\", y_val.shape)\n",
        "        \n",
        "        return (X_train, X_val, y_train, y_val)\n",
        "\n",
        "      "
      ],
      "execution_count": 0,
      "outputs": []
    }
  ]
}